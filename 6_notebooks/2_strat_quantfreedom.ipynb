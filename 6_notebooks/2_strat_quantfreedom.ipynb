{
 "cells": [
  {
   "cell_type": "markdown",
   "metadata": {},
   "source": [
    "# QuantFreedom Video - Feb 14, 2024 - Building a Trading Bot"
   ]
  },
  {
   "cell_type": "code",
   "execution_count": 5,
   "metadata": {},
   "outputs": [
    {
     "name": "stdout",
     "output_type": "stream",
     "text": [
      "The autoreload extension is already loaded. To reload it, use:\n",
      "  %reload_ext autoreload\n"
     ]
    }
   ],
   "source": [
    "# YT Video - https://youtu.be/ZqtJgyCR0Qo?si=UUSQ146qR5ML_ca7\n",
    "# import libs\n",
    "import os\n",
    "import numpy as np\n",
    "import plotly.graph_objects as go\n",
    "from plotly.subplots import make_subplots\n",
    "\n",
    "from typing import NamedTuple\n",
    "from quantfreedom.enums import CandleBodyType\n",
    "from quantfreedom.helper_funcs import dl_ex_candles\n",
    "from quantfreedom.indicators.tv_indicators import macd_tv, ema_tv\n",
    "\n",
    "# from quantfreedom.exchanges.mufex_exchange.mufex import Mufex\n",
    "# from numba import njit\n",
    "np.set_printoptions(formatter={'float_kind': '{:0.2f}'.format})\n",
    "from dotenv import load_dotenv\n",
    "load_dotenv()\n",
    "api_key = os.getenv('MFX_KEY')\n",
    "api_secret = os.getenv('MFX_SECRET')\n",
    "\n",
    "%load_ext autoreload\n",
    "%autoreload 2"
   ]
  },
  {
   "cell_type": "code",
   "execution_count": 10,
   "metadata": {},
   "outputs": [
    {
     "name": "stdout",
     "output_type": "stream",
     "text": [
      "[[1710321600000.00 73523.30 73523.30 73463.10 73496.30 43.43]\n",
      " [1710321900000.00 73496.30 73585.00 73487.70 73539.80 27.66]\n",
      " [1710322200000.00 73539.80 73539.80 73356.50 73407.10 58.75]\n",
      " ...\n",
      " [1710770700000.00 67462.90 67492.90 67316.30 67374.90 89.28]\n",
      " [1710771000000.00 67374.90 67801.20 67374.90 67788.70 150.64]\n",
      " [1710771300000.00 67788.70 67875.50 67451.60 67474.40 115.33]]\n"
     ]
    }
   ],
   "source": [
    "# Download candles frrom exchange\n",
    "candles = dl_ex_candles(\n",
    "  exchange='mufex',\n",
    "  symbol='BTCUSDT',\n",
    "  timeframe='5m',\n",
    "  candles_to_dl=1500,\n",
    ")\n",
    "print(candles)\n",
    "\n",
    "datetimes = candles[:, CandleBodyType.Timestamp].astype('datetime64[ms]')\n",
    "closing_prices = candles[:, CandleBodyType.Close]\n",
    "low_prices = candles[:, CandleBodyType.Low]"
   ]
  },
  {
   "cell_type": "code",
   "execution_count": 11,
   "metadata": {},
   "outputs": [],
   "source": [
    "# Define Indicators Length\n",
    "macd_below = 0\n",
    "fast_length = 12\n",
    "slow_length = 26\n",
    "signal_smoothing = 9\n",
    "ema_length = 200\n"
   ]
  },
  {
   "cell_type": "code",
   "execution_count": 12,
   "metadata": {},
   "outputs": [
    {
     "data": {
      "text/plain": [
       "array([nan, nan, nan, ..., -215.80, -201.44, -212.97])"
      ]
     },
     "execution_count": 12,
     "metadata": {},
     "output_type": "execute_result"
    }
   ],
   "source": [
    "# MACD \n",
    "histogram, macd, signal = macd_tv(\n",
    "  source=closing_prices,\n",
    "  fast_length=fast_length,\n",
    "  slow_length=slow_length,\n",
    "  signal_smoothing=signal_smoothing\n",
    "\n",
    ")\n",
    "macd"
   ]
  },
  {
   "cell_type": "code",
   "execution_count": 13,
   "metadata": {},
   "outputs": [
    {
     "data": {
      "text/plain": [
       "array([nan, nan, nan, ..., 68078.92, 68076.04, 68070.05])"
      ]
     },
     "execution_count": 13,
     "metadata": {},
     "output_type": "execute_result"
    }
   ],
   "source": [
    "# EMA\n",
    "ema = ema_tv(\n",
    "  source=closing_prices,\n",
    "  length=ema_length\n",
    ")\n",
    "ema"
   ]
  },
  {
   "cell_type": "code",
   "execution_count": 14,
   "metadata": {},
   "outputs": [],
   "source": [
    "# Define MACD \n",
    "prev_macd = np.roll(macd, 1)\n",
    "prev_macd[0] = np.nan\n",
    "\n",
    "prev_signal = np.roll(signal, 1)\n",
    "prev_signal[0] = np.nan"
   ]
  },
  {
   "cell_type": "code",
   "execution_count": 20,
   "metadata": {},
   "outputs": [
    {
     "data": {
      "text/plain": [
       "array([False, False, False, ...,  True,  True,  True])"
      ]
     },
     "execution_count": 20,
     "metadata": {},
     "output_type": "execute_result"
    }
   ],
   "source": [
    "# When MACD crosses above our signal == BUY\n",
    "macd_below_signal = prev_macd < prev_signal\n",
    "macd_above_signal = macd > signal\n",
    "low_price_below_ema = low_prices > ema\n",
    "macd_below_number = macd < macd_below\n",
    "\n",
    "macd_below_signal # We get array of True/False"
   ]
  },
  {
   "cell_type": "code",
   "execution_count": 21,
   "metadata": {},
   "outputs": [
    {
     "data": {
      "text/plain": [
       "array([False, False, False, ..., False, False, False])"
      ]
     },
     "execution_count": 21,
     "metadata": {},
     "output_type": "execute_result"
    }
   ],
   "source": [
    "entries = (\n",
    "  (low_price_below_ema == True)\n",
    "  & (macd_below_signal == True)\n",
    "  & (macd_above_signal == True)\n",
    "  & (macd_below_number == True)\n",
    ")\n",
    "entries"
   ]
  },
  {
   "cell_type": "code",
   "execution_count": 22,
   "metadata": {},
   "outputs": [],
   "source": [
    "entry_signals =  np.where(entries, macd, np.nan)"
   ]
  },
  {
   "cell_type": "code",
   "execution_count": 23,
   "metadata": {},
   "outputs": [],
   "source": [
    "# Plot our entries, to see how profitable strat is\n",
    "fig = go.Figure()\n",
    "fig = make_subplots(\n",
    "  cols=1,\n",
    "  rows=2,\n",
    "  shared_xaxes=True,\n",
    "  subplot_titles=['Candles', 'MACD'],\n",
    "  row_heights=[0.6, 0.4],\n",
    "  vertical_spacing=0.1,\n",
    ")\n",
    "# Chart CandleSticks\n",
    "fig.append_trace(\n",
    "  go.Candlestick(\n",
    "    x=datetimes,\n",
    "    open=candles[:, CandleBodyType.Open],\n",
    "    high=candles[:, CandleBodyType.High],\n",
    "    low=candles[:, CandleBodyType.Low],\n",
    "    close=candles[:, CandleBodyType.Close],\n",
    "    name='Candles',\n",
    "  ),\n",
    "  col=1,\n",
    "  row=1,\n",
    ")\n",
    "fig.append_trace(\n",
    "  go.Scatter(\n",
    "    x=datetimes,\n",
    "    y=ema,\n",
    "    name='EMA',\n",
    "    line_color='yellow',\n",
    "  ),\n",
    "  col=1,\n",
    "  row=1,\n",
    ")\n",
    "ind_shift = np.roll(histogram, 1)\n",
    "ind_shift[0] = np.nan\n",
    "colors = np.where(\n",
    "  histogram >= 0,\n",
    "  np.where(ind_shift < histogram, '#26A69A', '#B2DFD8'),\n",
    "  np.where(ind_shift < histogram, '#FFCDD2', '#FF5252'),\n",
    ")\n",
    "fig.append_trace(\n",
    "  go.Bar(\n",
    "    x=datetimes,\n",
    "    y=histogram,\n",
    "    name='histogram',\n",
    "    marker_color=colors,\n",
    "  ),\n",
    "  \n",
    ")\n"
   ]
  },
  {
   "cell_type": "code",
   "execution_count": null,
   "metadata": {},
   "outputs": [],
   "source": []
  }
 ],
 "metadata": {
  "kernelspec": {
   "display_name": "quantfreedom",
   "language": "python",
   "name": "python3"
  },
  "language_info": {
   "codemirror_mode": {
    "name": "ipython",
    "version": 3
   },
   "file_extension": ".py",
   "mimetype": "text/x-python",
   "name": "python",
   "nbconvert_exporter": "python",
   "pygments_lexer": "ipython3",
   "version": "3.10.10"
  }
 },
 "nbformat": 4,
 "nbformat_minor": 2
}
