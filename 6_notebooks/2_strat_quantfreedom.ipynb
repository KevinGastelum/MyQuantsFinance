{
 "cells": [
  {
   "cell_type": "markdown",
   "metadata": {},
   "source": [
    "# QuantFreedom Video - Feb 14, 2024 - Building a Trading Bot"
   ]
  },
  {
   "cell_type": "code",
   "execution_count": 5,
   "metadata": {},
   "outputs": [
    {
     "name": "stdout",
     "output_type": "stream",
     "text": [
      "The autoreload extension is already loaded. To reload it, use:\n",
      "  %reload_ext autoreload\n"
     ]
    }
   ],
   "source": [
    "# YT Video - https://youtu.be/ZqtJgyCR0Qo?si=UUSQ146qR5ML_ca7\n",
    "# import libs\n",
    "import os\n",
    "import numpy as np\n",
    "import plotly.graph_objects as go\n",
    "from plotly.subplots import make_subplots\n",
    "\n",
    "from typing import NamedTuple\n",
    "from quantfreedom.enums import CandleBodyType\n",
    "from quantfreedom.helper_funcs import dl_ex_candles\n",
    "from quantfreedom.indicators.tv_indicators import macd_tv, ema_tv\n",
    "\n",
    "# from quantfreedom.exchanges.mufex_exchange.mufex import Mufex\n",
    "# from numba import njit\n",
    "np.set_printoptions(formatter={'float_kind': '{:0.2f}'.format})\n",
    "from dotenv import load_dotenv\n",
    "load_dotenv()\n",
    "api_key = os.getenv('MFX_KEY')\n",
    "api_secret = os.getenv('MFX_SECRET')\n",
    "\n",
    "%load_ext autoreload\n",
    "%autoreload 2"
   ]
  },
  {
   "cell_type": "code",
   "execution_count": 10,
   "metadata": {},
   "outputs": [
    {
     "name": "stdout",
     "output_type": "stream",
     "text": [
      "[[1710321600000.00 73523.30 73523.30 73463.10 73496.30 43.43]\n",
      " [1710321900000.00 73496.30 73585.00 73487.70 73539.80 27.66]\n",
      " [1710322200000.00 73539.80 73539.80 73356.50 73407.10 58.75]\n",
      " ...\n",
      " [1710770700000.00 67462.90 67492.90 67316.30 67374.90 89.28]\n",
      " [1710771000000.00 67374.90 67801.20 67374.90 67788.70 150.64]\n",
      " [1710771300000.00 67788.70 67875.50 67451.60 67474.40 115.33]]\n"
     ]
    }
   ],
   "source": [
    "# Download candles frrom exchange\n",
    "candles = dl_ex_candles(\n",
    "  exchange='mufex',\n",
    "  symbol='BTCUSDT',\n",
    "  timeframe='5m',\n",
    "  candles_to_dl=1500,\n",
    ")\n",
    "print(candles)\n",
    "\n",
    "datetimes = candles[:, CandleBodyType.Timestamp].astype('datetime64[ms]')\n",
    "closing_prices = candles[:, CandleBodyType.Close]\n",
    "low_prices = candles[:, CandleBodyType.Low]"
   ]
  },
  {
   "cell_type": "code",
   "execution_count": 11,
   "metadata": {},
   "outputs": [],
   "source": [
    "# Define Indicators Length\n",
    "macd_below = 0\n",
    "fast_length = 12\n",
    "slow_length = 26\n",
    "signal_smoothing = 9\n",
    "ema_length = 200\n"
   ]
  },
  {
   "cell_type": "code",
   "execution_count": 12,
   "metadata": {},
   "outputs": [
    {
     "data": {
      "text/plain": [
       "array([nan, nan, nan, ..., -215.80, -201.44, -212.97])"
      ]
     },
     "execution_count": 12,
     "metadata": {},
     "output_type": "execute_result"
    }
   ],
   "source": [
    "# MACD \n",
    "histogram, macd, signal = macd_tv(\n",
    "  source=closing_prices,\n",
    "  fast_length=fast_length,\n",
    "  slow_length=slow_length,\n",
    "  signal_smoothing=signal_smoothing\n",
    "\n",
    ")\n",
    "macd"
   ]
  },
  {
   "cell_type": "code",
   "execution_count": 13,
   "metadata": {},
   "outputs": [
    {
     "data": {
      "text/plain": [
       "array([nan, nan, nan, ..., 68078.92, 68076.04, 68070.05])"
      ]
     },
     "execution_count": 13,
     "metadata": {},
     "output_type": "execute_result"
    }
   ],
   "source": [
    "# EMA\n",
    "ema = ema_tv(\n",
    "  source=closing_prices,\n",
    "  length=ema_length\n",
    ")\n",
    "ema"
   ]
  },
  {
   "cell_type": "code",
   "execution_count": 14,
   "metadata": {},
   "outputs": [],
   "source": [
    "# Define MACD \n",
    "prev_macd = np.roll(macd, 1)\n",
    "prev_macd[0] = np.nan\n",
    "\n",
    "prev_signal = np.roll(signal, 1)\n",
    "prev_signal[0] = np.nan"
   ]
  },
  {
   "cell_type": "code",
   "execution_count": null,
   "metadata": {},
   "outputs": [],
   "source": [
    "# When MACD crosses above our signal == BUY\n",
    "prev_macd_below_signal = prev_macd < prev_signal\n",
    "current_macd_above_signal = macd > signal\n",
    "low_price_below_ema = low_prices > ema\n"
   ]
  }
 ],
 "metadata": {
  "kernelspec": {
   "display_name": "quantfreedom",
   "language": "python",
   "name": "python3"
  },
  "language_info": {
   "codemirror_mode": {
    "name": "ipython",
    "version": 3
   },
   "file_extension": ".py",
   "mimetype": "text/x-python",
   "name": "python",
   "nbconvert_exporter": "python",
   "pygments_lexer": "ipython3",
   "version": "3.10.10"
  }
 },
 "nbformat": 4,
 "nbformat_minor": 2
}
