{
 "cells": [
  {
   "cell_type": "markdown",
   "metadata": {},
   "source": [
    "# QuantFreedom Video - Feb 14, 2024 - Building a Trading Bot"
   ]
  },
  {
   "cell_type": "code",
   "execution_count": null,
   "metadata": {},
   "outputs": [],
   "source": [
    "# YT Video - https://youtu.be/ZqtJgyCR0Qo?si=UUSQ146qR5ML_ca7\n",
    "# import libs\n",
    "import os\n",
    "import numpy as np\n",
    "import plotly.graph_objects as go\n",
    "from plotly.subplots import make_subplots\n",
    "\n",
    "from typing import NamedTuple\n",
    "from quantfreedom.enums import CandleBodyType\n",
    "from quantfreedom.helper_funcs import dl_ex_candles\n",
    "from quantfreedom.indicators.tv_indicators import macd_tc, ema_tv\n",
    "\n",
    "# from quantfreedom.exchanges.mufex_exchange.mufex import Mufex\n",
    "from numba import njit\n",
    "from dotenv import load_dotenv\n",
    "load_dotenv()\n",
    "api_key = os.getenv('MFX_KEY')\n",
    "api_secret = os.getenv('MFX_SECRET')\n",
    "\n",
    "mufex_main = Mufex(\n",
    "  api_key=api_key,\n",
    "  secret_key=api_secret,\n",
    "  use_test_net=False\n",
    ")\n",
    "\n",
    "%load_ext autoreload\n",
    "%autoreload 2"
   ]
  },
  {
   "cell_type": "code",
   "execution_count": null,
   "metadata": {},
   "outputs": [],
   "source": []
  },
  {
   "cell_type": "code",
   "execution_count": null,
   "metadata": {},
   "outputs": [],
   "source": []
  }
 ],
 "metadata": {
  "language_info": {
   "name": "python"
  }
 },
 "nbformat": 4,
 "nbformat_minor": 2
}
