{
 "cells": [
  {
   "cell_type": "code",
   "execution_count": 1,
   "metadata": {},
   "outputs": [],
   "source": [
    "import os\n",
    "from dotenv import load_dotenv\n",
    "load_dotenv()\n",
    "api_key = os.getenv('bybt_testnet_api_key')\n",
    "api_secret = os.getenv('bybt_testnet_secret_key')"
   ]
  },
  {
   "cell_type": "code",
   "execution_count": 2,
   "metadata": {},
   "outputs": [
    {
     "ename": "AttributeError",
     "evalue": "module 'websocket' has no attribute 'WebSocketApp'",
     "output_type": "error",
     "traceback": [
      "\u001b[1;31m---------------------------------------------------------------------------\u001b[0m",
      "\u001b[1;31mAttributeError\u001b[0m                            Traceback (most recent call last)",
      "Cell \u001b[1;32mIn[2], line 20\u001b[0m\n\u001b[0;32m     14\u001b[0m \u001b[38;5;66;03m# Generate signature.\u001b[39;00m\n\u001b[0;32m     15\u001b[0m signature \u001b[38;5;241m=\u001b[39m \u001b[38;5;28mstr\u001b[39m(hmac\u001b[38;5;241m.\u001b[39mnew(\n\u001b[0;32m     16\u001b[0m     \u001b[38;5;28mbytes\u001b[39m(api_secret, \u001b[38;5;124m\"\u001b[39m\u001b[38;5;124mutf-8\u001b[39m\u001b[38;5;124m\"\u001b[39m),\n\u001b[0;32m     17\u001b[0m     \u001b[38;5;28mbytes\u001b[39m(\u001b[38;5;124mf\u001b[39m\u001b[38;5;124m\"\u001b[39m\u001b[38;5;124mGET/realtime\u001b[39m\u001b[38;5;132;01m{\u001b[39;00mexpires\u001b[38;5;132;01m}\u001b[39;00m\u001b[38;5;124m\"\u001b[39m, \u001b[38;5;124m\"\u001b[39m\u001b[38;5;124mutf-8\u001b[39m\u001b[38;5;124m\"\u001b[39m), digestmod\u001b[38;5;241m=\u001b[39m\u001b[38;5;124m\"\u001b[39m\u001b[38;5;124msha256\u001b[39m\u001b[38;5;124m\"\u001b[39m\n\u001b[0;32m     18\u001b[0m )\u001b[38;5;241m.\u001b[39mhexdigest())\n\u001b[1;32m---> 20\u001b[0m ws \u001b[38;5;241m=\u001b[39m \u001b[43mwebsocket\u001b[49m\u001b[38;5;241;43m.\u001b[39;49m\u001b[43mWebSocketApp\u001b[49m(\n\u001b[0;32m     21\u001b[0m     url\u001b[38;5;241m=\u001b[39murl\n\u001b[0;32m     22\u001b[0m )\n\u001b[0;32m     24\u001b[0m \u001b[38;5;66;03m# Authenticate with API.\u001b[39;00m\n\u001b[0;32m     25\u001b[0m ws\u001b[38;5;241m.\u001b[39msend(\n\u001b[0;32m     26\u001b[0m     json\u001b[38;5;241m.\u001b[39mdumps({\n\u001b[0;32m     27\u001b[0m         \u001b[38;5;124m\"\u001b[39m\u001b[38;5;124mop\u001b[39m\u001b[38;5;124m\"\u001b[39m: \u001b[38;5;124m\"\u001b[39m\u001b[38;5;124mauth\u001b[39m\u001b[38;5;124m\"\u001b[39m,\n\u001b[0;32m     28\u001b[0m         \u001b[38;5;124m\"\u001b[39m\u001b[38;5;124margs\u001b[39m\u001b[38;5;124m\"\u001b[39m: [api_key, expires, signature]\n\u001b[0;32m     29\u001b[0m     })\n\u001b[0;32m     30\u001b[0m )\n",
      "\u001b[1;31mAttributeError\u001b[0m: module 'websocket' has no attribute 'WebSocketApp'"
     ]
    }
   ],
   "source": [
    "import hmac\n",
    "import json\n",
    "import time\n",
    "import websocket\n",
    "\n",
    "api_key = api_key\n",
    "api_secret = api_secret\n",
    "\n",
    "url = 'wss://stream-testnet.bybit.com/v5/public/linear' # BYBIT TEST\n",
    "\n",
    "# Generate expires.\n",
    "expires = int((time.time() + 1) * 1000)\n",
    "\n",
    "# Generate signature.\n",
    "signature = str(hmac.new(\n",
    "    bytes(api_secret, \"utf-8\"),\n",
    "    bytes(f\"GET/realtime{expires}\", \"utf-8\"), digestmod=\"sha256\"\n",
    ").hexdigest())\n",
    "\n",
    "ws = websocket.WebSocketApp(\n",
    "    url=url\n",
    ")\n",
    "\n",
    "# Authenticate with API.\n",
    "ws.send(\n",
    "    json.dumps({\n",
    "        \"op\": \"auth\",\n",
    "        \"args\": [api_key, expires, signature]\n",
    "    })\n",
    ")"
   ]
  },
  {
   "cell_type": "code",
   "execution_count": 3,
   "metadata": {},
   "outputs": [
    {
     "name": "stdout",
     "output_type": "stream",
     "text": [
      "[  0.    0.    0.    0.  107.  107.6   0.    0.    0.    0. ]\n"
     ]
    }
   ],
   "source": [
    "# EMA Strategy\n",
    "import numpy as np\n",
    "\n",
    "# EMA \n",
    "def exponential_ma(prices, period, weighting_factor=0.2 ):\n",
    "  ema = np.zeros(len(prices))\n",
    "  sma = np.mean(prices[:period])\n",
    "  ema[period - 1] = sma\n",
    "  for i in range(period, len(prices)):\n",
    "    ema[i] = (prices[i] * weighting_factor) + (ema[i - 1] * (1 - weighting_factor))\n",
    "    return ema\n",
    "\n",
    "prices = [100, 105, 110, 105, 115, 110, 115, 120, 100, 105]\n",
    "period = 5\n",
    "weighting_factor = 0.2\n",
    "\n",
    "ema = exponential_ma(prices, period, weighting_factor)\n",
    "print(ema)"
   ]
  },
  {
   "cell_type": "code",
   "execution_count": null,
   "metadata": {},
   "outputs": [],
   "source": [
    "print('')\n",
    "print('')\n",
    "print('')\n",
    "print('')\n",
    "print('')\n",
    "print('')\n",
    "print('')"
   ]
  }
 ],
 "metadata": {
  "kernelspec": {
   "display_name": "quantfreedom",
   "language": "python",
   "name": "python3"
  },
  "language_info": {
   "codemirror_mode": {
    "name": "ipython",
    "version": 3
   },
   "file_extension": ".py",
   "mimetype": "text/x-python",
   "name": "python",
   "nbconvert_exporter": "python",
   "pygments_lexer": "ipython3",
   "version": "3.9.18"
  }
 },
 "nbformat": 4,
 "nbformat_minor": 2
}
