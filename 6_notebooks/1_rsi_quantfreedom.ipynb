{
 "cells": [
  {
   "cell_type": "markdown",
   "metadata": {},
   "source": [
    "# QuantFredom Video 1 - Converting TradingView RSI strategy into Quantfreedom\n",
    "\n",
    "\n"
   ]
  },
  {
   "cell_type": "code",
   "execution_count": 2,
   "metadata": {},
   "outputs": [
    {
     "ename": "ModuleNotFoundError",
     "evalue": "No module named 'quantfreedom.indicators.indicators'",
     "output_type": "error",
     "traceback": [
      "\u001b[1;31m---------------------------------------------------------------------------\u001b[0m",
      "\u001b[1;31mModuleNotFoundError\u001b[0m                       Traceback (most recent call last)",
      "Cell \u001b[1;32mIn[2], line 7\u001b[0m\n\u001b[0;32m      5\u001b[0m \u001b[38;5;28;01mfrom\u001b[39;00m \u001b[38;5;21;01mquantfreedom\u001b[39;00m\u001b[38;5;21;01m.\u001b[39;00m\u001b[38;5;21;01menums\u001b[39;00m \u001b[38;5;28;01mimport\u001b[39;00m \u001b[38;5;241m*\u001b[39m\n\u001b[0;32m      6\u001b[0m \u001b[38;5;28;01mfrom\u001b[39;00m \u001b[38;5;21;01mquantfreedom\u001b[39;00m\u001b[38;5;21;01m.\u001b[39;00m\u001b[38;5;21;01mexchanges\u001b[39;00m\u001b[38;5;21;01m.\u001b[39;00m\u001b[38;5;21;01mmufex_exchange\u001b[39;00m\u001b[38;5;21;01m.\u001b[39;00m\u001b[38;5;21;01mmufex\u001b[39;00m \u001b[38;5;28;01mimport\u001b[39;00m Mufex\n\u001b[1;32m----> 7\u001b[0m \u001b[38;5;28;01mfrom\u001b[39;00m \u001b[38;5;21;01mquantfreedom\u001b[39;00m\u001b[38;5;21;01m.\u001b[39;00m\u001b[38;5;21;01mindicators\u001b[39;00m\u001b[38;5;21;01m.\u001b[39;00m\u001b[38;5;21;01mindicators\u001b[39;00m \u001b[38;5;28;01mimport\u001b[39;00m qf_calc_rsi\n\u001b[0;32m      8\u001b[0m \u001b[38;5;28;01mfrom\u001b[39;00m \u001b[38;5;21;01mdotenv\u001b[39;00m \u001b[38;5;28;01mimport\u001b[39;00m load_dotenv\n\u001b[0;32m      9\u001b[0m load_dotenv()\n",
      "\u001b[1;31mModuleNotFoundError\u001b[0m: No module named 'quantfreedom.indicators.indicators'"
     ]
    }
   ],
   "source": [
    "# YT Video - https://www.youtube.com/watch?v=-PepEj8BM6g\n",
    "\n",
    "# import libs\n",
    "import numpy as np\n",
    "import pandas as pd\n",
    "pd.options.plotting.backend = 'plotly'\n",
    "from quantfreedom.enums import *\n",
    "from quantfreedom.exchanges.mufex_exchange.mufex import Mufex\n",
    "from quantfreedom.indicators.indicators import qf_calc_rsi\n",
    "from dotenv import load_dotenv\n",
    "load_dotenv()\n",
    "apiKey = os.getenv('MFX_KEY')\n",
    "api_secret = os.getenv('MFX_SECRET')\n"
   ]
  },
  {
   "cell_type": "code",
   "execution_count": null,
   "metadata": {},
   "outputs": [],
   "source": [
    "class Mufex(Exchange):\n",
    "    def __init__(\n",
    "        # Exchange Vars\n",
    "        self,\n",
    "        use_test_net: bool,\n",
    "        api_key: str = None,\n",
    "        secret_key: str = None,\n",
    "    ):\n",
    "        \"\"\"\n",
    "        main docs page https://www.mufex.finance/apidocs/derivatives/contract/index.html\n",
    "\n",
    "        Make sure you have your position mode set to hedge or else a lot of functions will not work.\n",
    "        https://www.mufex.finance/apidocs/derivatives/contract/index.html?console#t-dv_switchpositionmode\n",
    "        \"\"\"\n",
    "        self.api_key = api_key\n",
    "        self.secret_key = secret_key\n",
    "        if use_test_net:\n",
    "            self.url_start = \"https://api.testnet.mufex.finance\"\n",
    "        else:\n",
    "            self.url_start = \"https://api.mufex.finance\""
   ]
  },
  {
   "cell_type": "code",
   "execution_count": null,
   "metadata": {},
   "outputs": [],
   "source": []
  }
 ],
 "metadata": {
  "kernelspec": {
   "display_name": "base",
   "language": "python",
   "name": "python3"
  },
  "language_info": {
   "codemirror_mode": {
    "name": "ipython",
    "version": 3
   },
   "file_extension": ".py",
   "mimetype": "text/x-python",
   "name": "python",
   "nbconvert_exporter": "python",
   "pygments_lexer": "ipython3",
   "version": "3.10.10"
  }
 },
 "nbformat": 4,
 "nbformat_minor": 2
}
