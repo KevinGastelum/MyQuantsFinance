{
 "cells": [
  {
   "cell_type": "markdown",
   "metadata": {},
   "source": [
    "# QuantFredom Video 1 - Converting TradingView RSI strategy to Python\n",
    "\n",
    "\n"
   ]
  },
  {
   "cell_type": "code",
   "execution_count": 97,
   "metadata": {},
   "outputs": [
    {
     "name": "stdout",
     "output_type": "stream",
     "text": [
      "The autoreload extension is already loaded. To reload it, use:\n",
      "  %reload_ext autoreload\n"
     ]
    }
   ],
   "source": [
    "# YT Video - https://www.youtube.com/watch?v=-PepEj8BM6g\n",
    "# import libs\n",
    "import os\n",
    "import numpy as np\n",
    "import pandas as pd\n",
    "pd.options.plotting.backend = 'plotly'\n",
    "from quantfreedom.enums import *\n",
    "from quantfreedom.exchanges.bybit_exchange.bybit import Bybit\n",
    "# from quantfreedom.exchanges.mufex_exchange.mufex import Mufex\n",
    "from numba import njit\n",
    "from dotenv import load_dotenv\n",
    "load_dotenv()\n",
    "api_key = os.getenv('BYBT_KEY')\n",
    "api_secret = os.getenv('BYBT_SECRET')\n",
    "\n",
    "mufex_main = Bybit(\n",
    "  api_key=api_key,\n",
    "  secret_key=api_secret,\n",
    "  use_test_net=True\n",
    ")\n",
    "\n",
    "%load_ext autoreload\n",
    "%autoreload 2"
   ]
  },
  {
   "cell_type": "code",
   "execution_count": 98,
   "metadata": {},
   "outputs": [
    {
     "name": "stdout",
     "output_type": "stream",
     "text": [
      "[0 1 2 3 4 5 6 7 8 9]\n"
     ]
    },
    {
     "data": {
      "text/plain": [
       "array([1, 2, 3, 4, 5, 6, 7, 8, 9, 0])"
      ]
     },
     "execution_count": 98,
     "metadata": {},
     "output_type": "execute_result"
    }
   ],
   "source": [
    "# Testing testing\n",
    "y = np.arange(10)\n",
    "print(y)\n",
    "y = np.roll(y, -1)\n",
    "y"
   ]
  },
  {
   "cell_type": "code",
   "execution_count": 102,
   "metadata": {},
   "outputs": [
    {
     "name": "stdout",
     "output_type": "stream",
     "text": [
      "First row of candles tohlcv: \n",
      "[1.7106864e+12 6.7423500e+04 6.7450100e+04 6.7266300e+04 6.7417100e+04\n",
      " 9.0343000e+01]\n",
      "\n",
      "Close price array: \n",
      "[67417.1 67322.  67328.  67660.7 67491.8 67371.9 67410.  67332.7 67434.4\n",
      " 67440.4 67639.  67734.3 67811.1 68112.8 68113.1 68032.  68088.1 68148.8\n",
      " 67901.2 68040.  68057.8 68197.3 68138.3 68286.  68178.8 68124.6 67950.9\n",
      " 68080.6 68106.8 68100.4 68065.2 68182.1 68266.8 68414.5 68200.1 68235.\n",
      " 68292.  68426.8 68549.  68632.8 68384.7 68551.8 68433.3 68384.1 68339.1\n",
      " 68326.1 68213.2 68311.5 68305.1 68220.  68201.4 68229.3 68193.3 68164.1\n",
      " 68283.9 68254.  68259.9 68227.6 68386.1 68280.5 68399.  68492.8 68439.1\n",
      " 68582.7 68638.7 68583.9 68682.8 68554.6 68579.6 68504.8 68436.2 68443.8\n",
      " 68500.9 68386.7 68338.8 68321.8 68413.8 68333.8 68354.3 68233.8 68321.1\n",
      " 68312.  68316.3 68246.3 68222.8 68279.8 68051.3 68194.  68318.6 68532.\n",
      " 68550.2 68459.1 68603.4 68521.1 68688.4 68925.7 68842.4 68551.4 68483.5\n",
      " 68282.1 68362.1 68269.  68295.8 68342.8 68191.  68247.4 68293.4 68359.6\n",
      " 68312.5 68437.4 68684.6 68450.2 68371.  68124.8 67948.6 68135.8 68107.2\n",
      " 67994.  67900.  67454.5 67542.8 67487.4 67515.6 67361.4 66923.4 67092.\n",
      " 67545.  67554.8 67615.1 67369.6 67512.3 67420.1 67510.7 67645.6 67812.\n",
      " 67684.8 67679.8 67793.8 67827.  67651.1 67631.2 67500.4 67489.5 67570.3\n",
      " 67718.1 68142.3 67937.  67829.6 68066.6 68048.6 68055.  68146.7 67993.5\n",
      " 67991.3 67987.9 68077.  68030.8 68186.3 68040.8 68036.5 67868.1 67834.\n",
      " 67778.  67883.4 68049.  68068.5 68198.3 68387.  68441.1 68540.1 68431.9\n",
      " 68422.6 68306.1 68369.9 68486.6 68339.1 68724.7 68833.  68906.3 68966.1\n",
      " 68733.5 68692.9 68786.9 68752.6 68650.  68604.6 68632.7 68551.1 68585.7\n",
      " 68529.3 68510.8 68466.1 68691.9 68666.1 68533.1 68511.6 68452.9 68446.9\n",
      " 68500.8 68306.9 68299.5 68263.3 68322.  68240.  68208.5 68275.2 68303.8\n",
      " 68259.3 68194.1 68065.9 68020.3 67993.4 67948.5 67576.  67833.2 67883.9\n",
      " 67832.9 67850.  67949.6 68094.  67991.  67742.1 67845.4 68091.6 68174.9\n",
      " 68225.  68071.4 68172.5 68089.8 68098.4 67892.8 67899.9 67957.5 67919.\n",
      " 67800.  67952.3 67904.  67894.  68073.6 68092.  68049.  68085.1 68233.1\n",
      " 68181.  68080.5 68095.1 68207.4 68278.3 68362.4 68457.1 68531.8 68372.1\n",
      " 68418.6 68337.2 68311.7 68312.8 68285.1 68468.3 68248.  68147.9 68271.4\n",
      " 68427.3 68372.8 68479.1 68364.  68479.7 68651.9 68602.4 68370.1 68446.5\n",
      " 68367.5 68249.3 68000.  68038.9 68531.8 68325.8 67692.8 67430.  67598.\n",
      " 67615.1 67456.6 67380.1 67787.5 67465.1 67457.8 67414.9 67079.8 67013.3\n",
      " 66957.1 67035.6 66754.9 67041.3 66982.8 66892.1 66811.8 66754.9 66948.7\n",
      " 67085.8 67264.8 67429.8]\n"
     ]
    }
   ],
   "source": [
    "# Fetch candles // NOTE: Use dl_ex_candles function instead\n",
    "candles = mufex_main.get_candles(symbol='BTCUSDT', timeframe='5m', candles_to_dl=300)\n",
    "print(f'First row of candles tohlcv: \\n{candles[0]}')\n",
    "print()\n",
    "# Get Prices from Close col\n",
    "prices = candles[:, 4]\n",
    "print(f'Close price array: \\n{prices}')\n",
    "period = 14"
   ]
  },
  {
   "cell_type": "code",
   "execution_count": 100,
   "metadata": {},
   "outputs": [
    {
     "name": "stdout",
     "output_type": "stream",
     "text": [
      "Current Price: 67429.8\n",
      "Previous Price: 67264.8\n",
      "Change: 0.002452991757947693\n",
      "[        nan         nan         nan         nan         nan         nan\n",
      "         nan         nan         nan         nan         nan         nan\n",
      "         nan         nan 71.50168951         nan         nan         nan\n",
      "         nan         nan         nan         nan         nan         nan\n",
      "         nan         nan         nan         nan         nan         nan\n",
      "         nan         nan         nan         nan         nan         nan\n",
      "         nan         nan         nan         nan         nan         nan\n",
      "         nan         nan         nan         nan         nan         nan\n",
      "         nan         nan         nan         nan         nan         nan\n",
      "         nan         nan         nan         nan         nan         nan\n",
      "         nan         nan         nan         nan         nan         nan\n",
      "         nan         nan         nan         nan         nan         nan\n",
      "         nan         nan         nan         nan         nan         nan\n",
      "         nan         nan         nan         nan         nan         nan\n",
      "         nan         nan         nan         nan         nan         nan\n",
      "         nan         nan         nan         nan         nan         nan\n",
      "         nan         nan         nan         nan         nan         nan\n",
      "         nan         nan         nan         nan         nan         nan\n",
      "         nan         nan         nan         nan         nan         nan\n",
      "         nan         nan         nan         nan         nan         nan\n",
      "         nan         nan         nan         nan         nan         nan\n",
      "         nan         nan         nan         nan         nan         nan\n",
      "         nan         nan         nan         nan         nan         nan\n",
      "         nan         nan         nan         nan         nan         nan\n",
      "         nan         nan         nan         nan         nan         nan\n",
      "         nan         nan         nan         nan         nan         nan\n",
      "         nan         nan         nan         nan         nan         nan\n",
      "         nan         nan         nan         nan         nan         nan\n",
      "         nan         nan         nan         nan         nan         nan\n",
      "         nan         nan         nan         nan         nan         nan\n",
      "         nan         nan         nan         nan         nan         nan\n",
      "         nan         nan         nan         nan         nan         nan\n",
      "         nan         nan         nan         nan         nan         nan\n",
      "         nan         nan         nan         nan         nan         nan\n",
      "         nan         nan         nan         nan         nan         nan\n",
      "         nan         nan         nan         nan         nan         nan\n",
      "         nan         nan         nan         nan         nan         nan\n",
      "         nan         nan         nan         nan         nan         nan\n",
      "         nan         nan         nan         nan         nan         nan\n",
      "         nan         nan         nan         nan         nan         nan\n",
      "         nan         nan         nan         nan         nan         nan\n",
      "         nan         nan         nan         nan         nan         nan\n",
      "         nan         nan         nan         nan         nan         nan\n",
      "         nan         nan         nan         nan         nan         nan\n",
      "         nan         nan         nan         nan         nan         nan\n",
      "         nan         nan         nan         nan         nan         nan\n",
      "         nan         nan         nan         nan         nan         nan\n",
      "         nan         nan         nan         nan         nan         nan\n",
      "         nan         nan         nan         nan         nan         nan\n",
      "         nan         nan         nan         nan         nan         nan]\n"
     ]
    }
   ],
   "source": [
    "# Prior price \n",
    "prices_shift = np.roll(prices, 1)\n",
    "prices_shift[0] = np.nan\n",
    "print(f'Current Price: {prices[-1]}')\n",
    "print(f'Previous Price: {prices_shift[-1]}') \n",
    "\n",
    "# Pct Change\n",
    "pchgs = (prices - prices_shift) / prices_shift\n",
    "print(f'Change: {pchgs[-1]}')\n",
    "alpha = 1 / period\n",
    "# gain\n",
    "gains = np.where(pchgs > 0, pchgs, 0)\n",
    "rma_gains = np.full_like(gains, np.nan)\n",
    "# loss\n",
    "losses = np.where(pchgs < 0, abs(pchgs), 0)\n",
    "rma_losses = np.full_like(losses, np.nan)\n",
    "\n",
    "rma_gains[period] = gains[1 : period + 1].mean()\n",
    "rma_losses[period] = losses[1 : period + 1].mean()\n",
    "\n",
    "# Relative Moving Average\n",
    "for i in range(period, + 1, gains.size):\n",
    "  rma_gains[i] = alpha * gains[i] + (1 - alpha) * rma_gains[i - 1]\n",
    "  rma_losses[i] = alpha * losses[i] + (1 - alpha) * rma_losses[i - 1]\n",
    "\n",
    "rs = rma_gains / rma_losses\n",
    "\n",
    "rsi = 100 - (100 / (1 + rs))\n",
    "\n",
    "print(rsi)"
   ]
  },
  {
   "cell_type": "code",
   "execution_count": 101,
   "metadata": {},
   "outputs": [],
   "source": [
    "# RSI Indicator Function\n",
    "def qf_calc_rsi(prices: np.array, period: int):\n",
    "  prices_shift = np.roll(prices, 1)\n",
    "  prices_shift[0] = np.nan\n",
    "  pchg = (prices - prices_shift) / prices_shift\n",
    "\n",
    "  alpha = 1 / period\n",
    "  gain = np.where(pchg > 0, pchg, 0)\n",
    "  avg_gain = np.full_like(gain, np.nan)\n",
    "\n",
    "  loss = np.where(pchg < 0, abs(pchg), 0)\n",
    "  avg_loss = np.full_like(loss, np.nan)\n",
    "\n",
    "  avg_gain[period] = gain[1 : period + 1].mean()\n",
    "  avg_loss[period] = loss[1 : period + 1].mean()\n",
    "\n",
    "  for i in range(period, + 1, gain.size):\n",
    "    avg_gain[i] = alpha * gain[i] + (1 - alpha) * avg_gain[i - 1]\n",
    "    avg_loss[i] = alpha * loss[i] + (1 - alpha) * avg_loss[i - 1]\n",
    "\n",
    "  rs = avg_gain / avg_loss\n",
    "\n",
    "  rsi = 100 - (100 / (1 + rs))\n",
    "  print(rsi)\n",
    "  return rsi\n",
    "\n"
   ]
  },
  {
   "cell_type": "code",
   "execution_count": null,
   "metadata": {},
   "outputs": [],
   "source": []
  }
 ],
 "metadata": {
  "kernelspec": {
   "display_name": "base",
   "language": "python",
   "name": "python3"
  },
  "language_info": {
   "codemirror_mode": {
    "name": "ipython",
    "version": 3
   },
   "file_extension": ".py",
   "mimetype": "text/x-python",
   "name": "python",
   "nbconvert_exporter": "python",
   "pygments_lexer": "ipython3",
   "version": "3.10.10"
  }
 },
 "nbformat": 4,
 "nbformat_minor": 2
}
