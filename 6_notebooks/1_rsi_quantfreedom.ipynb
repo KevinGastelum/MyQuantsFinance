{
 "cells": [
  {
   "cell_type": "markdown",
   "metadata": {},
   "source": [
    "# QuantFredom Video 1 - Converting TradingView RSI strategy to Python\n",
    "\n",
    "\n"
   ]
  },
  {
   "cell_type": "code",
   "execution_count": 42,
   "metadata": {},
   "outputs": [
    {
     "name": "stdout",
     "output_type": "stream",
     "text": [
      "The autoreload extension is already loaded. To reload it, use:\n",
      "  %reload_ext autoreload\n"
     ]
    }
   ],
   "source": [
    "# YT Video - https://www.youtube.com/watch?v=-PepEj8BM6g\n",
    "# import libs\n",
    "import os\n",
    "import numpy as np\n",
    "import pandas as pd\n",
    "pd.options.plotting.backend = 'plotly'\n",
    "from quantfreedom.enums import *\n",
    "from quantfreedom.exchanges.mufex_exchange.mufex import Mufex\n",
    "from numba import njit\n",
    "from dotenv import load_dotenv\n",
    "load_dotenv()\n",
    "api_key = os.getenv('MFX_KEY')\n",
    "api_secret = os.getenv('MFX_SECRET')\n",
    "\n",
    "mufex_main = Mufex(\n",
    "  api_key=api_key,\n",
    "  secret_key=api_secret,\n",
    "  use_test_net=False\n",
    ")\n",
    "\n",
    "%load_ext autoreload\n",
    "%autoreload 2"
   ]
  },
  {
   "cell_type": "code",
   "execution_count": 20,
   "metadata": {},
   "outputs": [
    {
     "name": "stdout",
     "output_type": "stream",
     "text": [
      "[0 1 2 3 4 5 6 7 8 9]\n"
     ]
    },
    {
     "data": {
      "text/plain": [
       "array([1, 2, 3, 4, 5, 6, 7, 8, 9, 0])"
      ]
     },
     "execution_count": 20,
     "metadata": {},
     "output_type": "execute_result"
    }
   ],
   "source": [
    "# Testing testing\n",
    "y = np.arange(10)\n",
    "print(y)\n",
    "y = np.roll(y, -1)\n",
    "y"
   ]
  },
  {
   "cell_type": "code",
   "execution_count": 43,
   "metadata": {},
   "outputs": [],
   "source": [
    "# Fetch candles\n",
    "candles = mufex_main.get_candles(symbol='BTCUSDT', timeframe='5m', candles_to_dl=300)\n",
    "# print(candles[0])\n",
    "\n",
    "# Get Prices\n",
    "prices = candles[:, 4]\n",
    "# print(prices)\n",
    "period = 14"
   ]
  },
  {
   "cell_type": "code",
   "execution_count": 54,
   "metadata": {},
   "outputs": [
    {
     "name": "stdout",
     "output_type": "stream",
     "text": [
      "Current Price: 68428.4\n",
      "Previous Price: 68528.7\n",
      "Change: -0.0014636203517650694\n"
     ]
    }
   ],
   "source": [
    "# Prior price \n",
    "prices_shift = np.roll(prices, 1)\n",
    "prices_shift[0] = np.nan\n",
    "print(f'Current Price: {prices[-1]}')\n",
    "print(f'Previous Price: {prices_shift[-1]}') \n",
    "\n",
    "# Pct Change\n",
    "pchg = (prices - prices_shift) / prices_shift\n",
    "print(f'Change: {pchg[-1]}')\n",
    "alpha = 1 / period\n",
    "gain = np.where(pchg > 0, pchg, 0)\n",
    "avg_gain = np.full_like(gain, np.nan)\n",
    "\n",
    "loss = np.where(pchg < 0, abs(pchg), 0)\n",
    "avg_loss = np.full_like(loss, np.nan)\n",
    "\n",
    "avg_gain[period] = gain[1 : period + 1].mean()\n",
    "avg_loss[period] = loss[1 : period + 1].mean()"
   ]
  },
  {
   "cell_type": "code",
   "execution_count": 19,
   "metadata": {},
   "outputs": [],
   "source": [
    "# RSI Indicator\n",
    "def qf_calc_rsi(prices: np.array, period: int):\n",
    "  prices_shift = np.roll(prices, 1)\n",
    "  prices_shift[0] = np.nan\n",
    "  pchg = (prices - prices_shift) / prices_shift\n",
    "\n",
    "  alpha = 1 / period\n",
    "  gain = np.where(pchg > 0, pchg, 0)\n",
    "  avg_gain = np.full_like(gain, np.nan)\n",
    "\n",
    "  loss = np.where(pchg < 0, abs(pchg), 0)\n",
    "  avg_loss = np.full_like(loss, np.nan)\n",
    "\n",
    "  avg_gain[period] = gain[1 : period + 1].mean()\n",
    "  avg_loss[period] = loss[1 : period + 1].mean()\n",
    "\n",
    "  for i in range(period, + 1, gain.size):\n",
    "    avg_gain[i] = alpha * gain[i] + (1 - alpha) * avg_gain[i - 1]\n",
    "    avg_loss[i] = alpha * loss[i] + (1 - alpha) * avg_loss[i - 1]\n",
    "\n",
    "  rs = avg_gain / avg_loss\n",
    "\n",
    "  rsi = 100 - (100 / (i + rs))\n",
    "  return rsi\n",
    "\n"
   ]
  },
  {
   "cell_type": "code",
   "execution_count": null,
   "metadata": {},
   "outputs": [],
   "source": []
  }
 ],
 "metadata": {
  "kernelspec": {
   "display_name": "base",
   "language": "python",
   "name": "python3"
  },
  "language_info": {
   "codemirror_mode": {
    "name": "ipython",
    "version": 3
   },
   "file_extension": ".py",
   "mimetype": "text/x-python",
   "name": "python",
   "nbconvert_exporter": "python",
   "pygments_lexer": "ipython3",
   "version": "3.10.10"
  }
 },
 "nbformat": 4,
 "nbformat_minor": 2
}
