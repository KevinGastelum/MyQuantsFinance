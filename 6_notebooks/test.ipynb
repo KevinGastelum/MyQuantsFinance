{
 "cells": [
  {
   "cell_type": "code",
   "execution_count": null,
   "metadata": {},
   "outputs": [],
   "source": [
    "from alpaca.trading.client import TradingClient"
   ]
  },
  {
   "cell_type": "code",
   "execution_count": 3,
   "metadata": {},
   "outputs": [
    {
     "name": "stdout",
     "output_type": "stream",
     "text": [
      "[  0.    0.    0.    0.  107.  107.6   0.    0.    0.    0. ]\n"
     ]
    }
   ],
   "source": [
    "# EMA Strategy\n",
    "import numpy as np\n",
    "\n",
    "# EMA \n",
    "def exponential_ma(prices, period, weighting_factor=0.2 ):\n",
    "  ema = np.zeros(len(prices))\n",
    "  sma = np.mean(prices[:period])\n",
    "  ema[period - 1] = sma\n",
    "  for i in range(period, len(prices)):\n",
    "    ema[i] = (prices[i] * weighting_factor) + (ema[i - 1] * (1 - weighting_factor))\n",
    "    return ema\n",
    "\n",
    "prices = [100, 105, 110, 105, 115, 110, 115, 120, 100, 105]\n",
    "period = 5\n",
    "weighting_factor = 0.2\n",
    "\n",
    "ema = exponential_ma(prices, period, weighting_factor)\n",
    "print(ema)"
   ]
  },
  {
   "cell_type": "code",
   "execution_count": null,
   "metadata": {},
   "outputs": [],
   "source": []
  }
 ],
 "metadata": {
  "kernelspec": {
   "display_name": "quantfreedom",
   "language": "python",
   "name": "python3"
  },
  "language_info": {
   "codemirror_mode": {
    "name": "ipython",
    "version": 3
   },
   "file_extension": ".py",
   "mimetype": "text/x-python",
   "name": "python",
   "nbconvert_exporter": "python",
   "pygments_lexer": "ipython3",
   "version": "3.9.18"
  }
 },
 "nbformat": 4,
 "nbformat_minor": 2
}
